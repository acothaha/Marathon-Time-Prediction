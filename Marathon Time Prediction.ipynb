{
 "cells": [
  {
   "cell_type": "markdown",
   "metadata": {},
   "source": [
    "# Marathon Time Prediction\n",
    "\n",
    "## Content\n",
    "\n",
    "1. Introduction\n",
    "2. Import Libraries\n",
    "3. Data Loading\n",
    "4. Exploratory Data Analysis (EDA)\n",
    "5. Data Preprocessing\n",
    "6. Model Definition\n",
    "7. Model Training\n",
    "8. Model Evaluation\n",
    "9. Model Saving\n",
    "10. Model Inference\n",
    "11. Conclusion"
   ]
  },
  {
   "cell_type": "markdown",
   "metadata": {},
   "source": [
    "##  1. Introduction \n",
    "\n",
    "#### Name : Abdurrahman Shiddiq Thaha\n",
    "\n",
    "### 1.1 Background\n",
    "\n",
    "Every Marathoner has a time goal in mind, and this is the result of all the training done in months of exercises. Long runs, Strides, Kilometers and phisical exercise, all add improvement to the result. Marathon time prediction is an art, generally guided by expert physiologists that prescribe the weekly exercises and the milestones to the marathon.\n",
    "Unfortunately, Runners have a lot of distractions while preparing the marathon, work, family, illnes, and therefore each one of us arrives to the marathon with his own story.\n",
    "The \"simple\" approach is to look at data after the competition, the Leaderboard.\n",
    "\n",
    "But what if we could link the Marathon result to the training history of the Athlete? Could we find that \"non orthodox\" training plans give good results?\n",
    "\n",
    "### 1.2 Problem Statement\n",
    "\n",
    "Create a regression model to predict marathon time with the provided dataset."
   ]
  },
  {
   "cell_type": "markdown",
   "metadata": {},
   "source": [
    "## 2. Import Libraries \n",
    "\n",
    "These are libraries that are used in this assignment:\n",
    "\n",
    "- pandas : Used to load and process data\n",
    "\n",
    "- numpy : Used to do mathematical calculation necessary in the data analysis\n",
    "\n",
    "- matplotlib : Used to visualize data\n",
    "\n",
    "- seaborn : Used to do an alternative data visualization\n",
    "\n",
    "- sklearn : Used to do machine learning procedure\n",
    "\n",
    "- xgboost : used to utilize XGBoost algorithm\n",
    "\n",
    "- lightbm : used to utilize LGBM algorith\n",
    "\n",
    "- pickle : used to create .pkl file for deployment\n",
    "\n",
    "- scipy.stats : Used to do statistical calculation\n",
    "\n",
    "- warnings : Used to ignore any warning"
   ]
  },
  {
   "cell_type": "code",
   "execution_count": 1,
   "metadata": {},
   "outputs": [],
   "source": [
    "import pandas as pd\n",
    "import numpy as np\n",
    "import matplotlib.pyplot as plt\n",
    "import seaborn as sns\n",
    "from sklearn.model_selection import train_test_split, KFold, StratifiedKFold, cross_val_score, GridSearchCV\n",
    "from sklearn.preprocessing import OneHotEncoder\n",
    "from sklearn.preprocessing import MinMaxScaler, StandardScaler\n",
    "from sklearn.feature_selection import SelectKBest, mutual_info_regression\n",
    "from sklearn.linear_model import LinearRegression \n",
    "from sklearn.tree import DecisionTreeRegressor\n",
    "from sklearn.ensemble import RandomForestRegressor\n",
    "from sklearn.svm import SVR\n",
    "from sklearn.linear_model import Ridge, Lasso\n",
    "from sklearn.compose import ColumnTransformer\n",
    "from sklearn.pipeline import Pipeline\n",
    "from xgboost import XGBRegressor\n",
    "from lightgbm import LGBMRegressor\n",
    "import pickle\n",
    "from sklearn.metrics import mean_absolute_error,mean_squared_error,r2_score\n",
    "import scipy.stats as st\n",
    "import warnings\n",
    "\n",
    "warnings.simplefilter('ignore')\n",
    "\n",
    "# enable inline plotting\n",
    "%matplotlib inline\n",
    "\n",
    "\n",
    "sns.set_style(style='white')\n",
    "\n",
    "# set the max columns to none\n",
    "pd.set_option('display.max_columns', None)\n",
    "\n",
    "# set the random seed\n",
    "np.random.seed(420)"
   ]
  },
  {
   "cell_type": "markdown",
   "metadata": {
    "tags": []
   },
   "source": [
    "## 3. Data Loading \n",
    "\n",
    "We have been provided with 1 dataset . The description for what the dataset contain is given below: \n",
    "\n",
    "\n",
    "- **MarathonData.csv** : A dataset which contains athlete's training history and their marathon time.\n",
    "\n",
    "The details of the dataset can be seen here [Here](https://www.kaggle.com/datasets/girardi69/marathon-time-predictions)\n",
    "\n",
    "### • Data Description\n",
    "\n",
    "| Variable | Definition | Description |\n",
    "| --- | --- | --- |\n",
    "| Marathon | name of the marathon event and its year | |\n",
    "| Name | Athlete's name  |  |\n",
    "| Category | the sex and age group of a runner | MAM: Male < 40, WAM: Female < 40, M(Number): Male > number  |\n",
    "| km4week | total number of kilometers run in the last 4 weeks before the marathon, marathon included | If, for example, the km4week is 100, the athlete has run 400 km in the four weeks before the marathon |\n",
    "| sp4week | The average speed of the athlete in the last 4 training weeks | KM/H |\n",
    "| CrossTraining | If the runner is also a cyclist, or a triathlete | boolean |\n",
    "| Wall21 | Personal Best Half marathon time | in hour |\n",
    "| Marathon time | Marathon finish time  | in hour |\n",
    "| CATEGORY | Group of runner based on marathon time | A: results under 3h, B: results between 3h and 3h20m, C: results between 3h20m and 3h40m, D: results between 3h40 and 4h |"
   ]
  },
  {
   "cell_type": "code",
   "execution_count": 2,
   "metadata": {},
   "outputs": [],
   "source": [
    "# Loading data\n",
    "df = pd.read_csv('MarathonData.csv')"
   ]
  },
  {
   "cell_type": "code",
   "execution_count": 3,
   "metadata": {},
   "outputs": [],
   "source": [
    "# Duplicate Dataset\n",
    "df_copy = df.copy()"
   ]
  },
  {
   "cell_type": "code",
   "execution_count": 4,
   "metadata": {},
   "outputs": [
    {
     "data": {
      "text/plain": [
       "(87, 10)"
      ]
     },
     "execution_count": 4,
     "metadata": {},
     "output_type": "execute_result"
    }
   ],
   "source": [
    "# Checking the shape of the dataset\n",
    "df.shape"
   ]
  },
  {
   "cell_type": "markdown",
   "metadata": {},
   "source": [
    "This dataset has 87 rows and 10 columns (1 Target and 9 features)"
   ]
  },
  {
   "cell_type": "code",
   "execution_count": 5,
   "metadata": {},
   "outputs": [
    {
     "data": {
      "text/html": [
       "<div>\n",
       "<style scoped>\n",
       "    .dataframe tbody tr th:only-of-type {\n",
       "        vertical-align: middle;\n",
       "    }\n",
       "\n",
       "    .dataframe tbody tr th {\n",
       "        vertical-align: top;\n",
       "    }\n",
       "\n",
       "    .dataframe thead th {\n",
       "        text-align: right;\n",
       "    }\n",
       "</style>\n",
       "<table border=\"1\" class=\"dataframe\">\n",
       "  <thead>\n",
       "    <tr style=\"text-align: right;\">\n",
       "      <th></th>\n",
       "      <th>id</th>\n",
       "      <th>Marathon</th>\n",
       "      <th>Name</th>\n",
       "      <th>Category</th>\n",
       "      <th>km4week</th>\n",
       "      <th>sp4week</th>\n",
       "      <th>CrossTraining</th>\n",
       "      <th>Wall21</th>\n",
       "      <th>MarathonTime</th>\n",
       "      <th>CATEGORY</th>\n",
       "    </tr>\n",
       "  </thead>\n",
       "  <tbody>\n",
       "    <tr>\n",
       "      <th>0</th>\n",
       "      <td>1</td>\n",
       "      <td>Prague17</td>\n",
       "      <td>Blair MORGAN</td>\n",
       "      <td>MAM</td>\n",
       "      <td>132.8</td>\n",
       "      <td>14.434783</td>\n",
       "      <td>NaN</td>\n",
       "      <td>1.16</td>\n",
       "      <td>2.37</td>\n",
       "      <td>A</td>\n",
       "    </tr>\n",
       "    <tr>\n",
       "      <th>1</th>\n",
       "      <td>2</td>\n",
       "      <td>Prague17</td>\n",
       "      <td>Robert Heczko</td>\n",
       "      <td>MAM</td>\n",
       "      <td>68.6</td>\n",
       "      <td>13.674419</td>\n",
       "      <td>NaN</td>\n",
       "      <td>1.23</td>\n",
       "      <td>2.59</td>\n",
       "      <td>A</td>\n",
       "    </tr>\n",
       "    <tr>\n",
       "      <th>2</th>\n",
       "      <td>3</td>\n",
       "      <td>Prague17</td>\n",
       "      <td>Michon Jerome</td>\n",
       "      <td>MAM</td>\n",
       "      <td>82.7</td>\n",
       "      <td>13.520436</td>\n",
       "      <td>NaN</td>\n",
       "      <td>1.30</td>\n",
       "      <td>2.66</td>\n",
       "      <td>A</td>\n",
       "    </tr>\n",
       "  </tbody>\n",
       "</table>\n",
       "</div>"
      ],
      "text/plain": [
       "   id  Marathon           Name Category  km4week    sp4week CrossTraining  \\\n",
       "0   1  Prague17   Blair MORGAN      MAM    132.8  14.434783           NaN   \n",
       "1   2  Prague17  Robert Heczko      MAM     68.6  13.674419           NaN   \n",
       "2   3  Prague17  Michon Jerome      MAM     82.7  13.520436           NaN   \n",
       "\n",
       "  Wall21  MarathonTime CATEGORY  \n",
       "0   1.16          2.37        A  \n",
       "1   1.23          2.59        A  \n",
       "2   1.30          2.66        A  "
      ]
     },
     "execution_count": 5,
     "metadata": {},
     "output_type": "execute_result"
    }
   ],
   "source": [
    "# Look at the first 3 rows\n",
    "df_copy.head(3)"
   ]
  },
  {
   "cell_type": "code",
   "execution_count": 6,
   "metadata": {},
   "outputs": [
    {
     "data": {
      "text/html": [
       "<div>\n",
       "<style scoped>\n",
       "    .dataframe tbody tr th:only-of-type {\n",
       "        vertical-align: middle;\n",
       "    }\n",
       "\n",
       "    .dataframe tbody tr th {\n",
       "        vertical-align: top;\n",
       "    }\n",
       "\n",
       "    .dataframe thead th {\n",
       "        text-align: right;\n",
       "    }\n",
       "</style>\n",
       "<table border=\"1\" class=\"dataframe\">\n",
       "  <thead>\n",
       "    <tr style=\"text-align: right;\">\n",
       "      <th></th>\n",
       "      <th>id</th>\n",
       "      <th>Marathon</th>\n",
       "      <th>Name</th>\n",
       "      <th>Category</th>\n",
       "      <th>km4week</th>\n",
       "      <th>sp4week</th>\n",
       "      <th>CrossTraining</th>\n",
       "      <th>Wall21</th>\n",
       "      <th>MarathonTime</th>\n",
       "      <th>CATEGORY</th>\n",
       "    </tr>\n",
       "  </thead>\n",
       "  <tbody>\n",
       "    <tr>\n",
       "      <th>84</th>\n",
       "      <td>85</td>\n",
       "      <td>Prague17</td>\n",
       "      <td>Yoi Ohsako</td>\n",
       "      <td>M40</td>\n",
       "      <td>55.4</td>\n",
       "      <td>11.043189</td>\n",
       "      <td>NaN</td>\n",
       "      <td>1.94</td>\n",
       "      <td>3.94</td>\n",
       "      <td>D</td>\n",
       "    </tr>\n",
       "    <tr>\n",
       "      <th>85</th>\n",
       "      <td>86</td>\n",
       "      <td>Prague17</td>\n",
       "      <td>Simon Dunn</td>\n",
       "      <td>M45</td>\n",
       "      <td>33.2</td>\n",
       "      <td>11.066667</td>\n",
       "      <td>NaN</td>\n",
       "      <td>2.05</td>\n",
       "      <td>3.95</td>\n",
       "      <td>D</td>\n",
       "    </tr>\n",
       "    <tr>\n",
       "      <th>86</th>\n",
       "      <td>87</td>\n",
       "      <td>Prague17</td>\n",
       "      <td>Pavel ?imek</td>\n",
       "      <td>M40</td>\n",
       "      <td>17.9</td>\n",
       "      <td>10.848485</td>\n",
       "      <td>ciclista 5h</td>\n",
       "      <td>2.05</td>\n",
       "      <td>3.98</td>\n",
       "      <td>D</td>\n",
       "    </tr>\n",
       "  </tbody>\n",
       "</table>\n",
       "</div>"
      ],
      "text/plain": [
       "    id  Marathon         Name Category  km4week    sp4week CrossTraining  \\\n",
       "84  85  Prague17   Yoi Ohsako      M40     55.4  11.043189           NaN   \n",
       "85  86  Prague17   Simon Dunn      M45     33.2  11.066667           NaN   \n",
       "86  87  Prague17  Pavel ?imek      M40     17.9  10.848485   ciclista 5h   \n",
       "\n",
       "   Wall21  MarathonTime CATEGORY  \n",
       "84   1.94          3.94        D  \n",
       "85   2.05          3.95        D  \n",
       "86   2.05          3.98        D  "
      ]
     },
     "execution_count": 6,
     "metadata": {},
     "output_type": "execute_result"
    }
   ],
   "source": [
    "# Look at the last 3 rows\n",
    "df_copy.tail(3)"
   ]
  },
  {
   "cell_type": "code",
   "execution_count": 7,
   "metadata": {},
   "outputs": [
    {
     "name": "stdout",
     "output_type": "stream",
     "text": [
      "<class 'pandas.core.frame.DataFrame'>\n",
      "RangeIndex: 87 entries, 0 to 86\n",
      "Data columns (total 10 columns):\n",
      " #   Column         Non-Null Count  Dtype  \n",
      "---  ------         --------------  -----  \n",
      " 0   id             87 non-null     int64  \n",
      " 1   Marathon       87 non-null     object \n",
      " 2   Name           87 non-null     object \n",
      " 3   Category       81 non-null     object \n",
      " 4   km4week        87 non-null     float64\n",
      " 5   sp4week        87 non-null     float64\n",
      " 6   CrossTraining  13 non-null     object \n",
      " 7   Wall21         87 non-null     object \n",
      " 8   MarathonTime   87 non-null     float64\n",
      " 9   CATEGORY       87 non-null     object \n",
      "dtypes: float64(3), int64(1), object(6)\n",
      "memory usage: 6.9+ KB\n"
     ]
    }
   ],
   "source": [
    "# Show concise summary of the data\n",
    "df_copy.info()"
   ]
  },
  {
   "cell_type": "markdown",
   "metadata": {},
   "source": [
    "- there are 1 column that have null values (`CrossTraining`)\n",
    "- there are 6 columns with object datatype, 3 columns with float64 datatype and 1 columns with int64 datatype"
   ]
  },
  {
   "cell_type": "markdown",
   "metadata": {},
   "source": [
    "### • Convert not NaN missing value to NaN"
   ]
  },
  {
   "cell_type": "code",
   "execution_count": 8,
   "metadata": {},
   "outputs": [],
   "source": [
    "df_copy['Wall21'].replace({' -   ': np.nan}, inplace=True)"
   ]
  },
  {
   "cell_type": "markdown",
   "metadata": {},
   "source": [
    "### • Changing datatype\n",
    "\n",
    "`Wall21`: object -> float64"
   ]
  },
  {
   "cell_type": "code",
   "execution_count": 9,
   "metadata": {},
   "outputs": [],
   "source": [
    "df_copy['Wall21'] = df_copy['Wall21'].astype('float64')"
   ]
  },
  {
   "cell_type": "code",
   "execution_count": 10,
   "metadata": {},
   "outputs": [
    {
     "name": "stdout",
     "output_type": "stream",
     "text": [
      "<class 'pandas.core.frame.DataFrame'>\n",
      "RangeIndex: 87 entries, 0 to 86\n",
      "Data columns (total 10 columns):\n",
      " #   Column         Non-Null Count  Dtype  \n",
      "---  ------         --------------  -----  \n",
      " 0   id             87 non-null     int64  \n",
      " 1   Marathon       87 non-null     object \n",
      " 2   Name           87 non-null     object \n",
      " 3   Category       81 non-null     object \n",
      " 4   km4week        87 non-null     float64\n",
      " 5   sp4week        87 non-null     float64\n",
      " 6   CrossTraining  13 non-null     object \n",
      " 7   Wall21         81 non-null     float64\n",
      " 8   MarathonTime   87 non-null     float64\n",
      " 9   CATEGORY       87 non-null     object \n",
      "dtypes: float64(4), int64(1), object(5)\n",
      "memory usage: 6.9+ KB\n"
     ]
    }
   ],
   "source": [
    "df_copy.info()"
   ]
  },
  {
   "cell_type": "markdown",
   "metadata": {},
   "source": [
    "After changing the not NaN missing value and datatype we are ready to move on"
   ]
  },
  {
   "cell_type": "markdown",
   "metadata": {},
   "source": [
    "### • Checking for duplicate"
   ]
  },
  {
   "cell_type": "code",
   "execution_count": 11,
   "metadata": {},
   "outputs": [
    {
     "data": {
      "text/plain": [
       "0"
      ]
     },
     "execution_count": 11,
     "metadata": {},
     "output_type": "execute_result"
    }
   ],
   "source": [
    "# Checking if the dataset have duplicate\n",
    "df_copy.shape[0] - df_copy.drop_duplicates().shape[0]"
   ]
  },
  {
   "cell_type": "markdown",
   "metadata": {},
   "source": [
    "There is not duplicate data"
   ]
  },
  {
   "cell_type": "markdown",
   "metadata": {},
   "source": [
    "### • Splitting data train and data test"
   ]
  },
  {
   "cell_type": "markdown",
   "metadata": {},
   "source": [
    "Splitting data into data train and test with a ratio of 80/20"
   ]
  },
  {
   "cell_type": "code",
   "execution_count": 12,
   "metadata": {},
   "outputs": [],
   "source": [
    "# split train and test data\n",
    "train, test = train_test_split(df_copy, test_size=0.2)"
   ]
  },
  {
   "cell_type": "code",
   "execution_count": 13,
   "metadata": {},
   "outputs": [
    {
     "data": {
      "text/plain": [
       "(69, 10)"
      ]
     },
     "execution_count": 13,
     "metadata": {},
     "output_type": "execute_result"
    }
   ],
   "source": [
    "train.shape"
   ]
  },
  {
   "cell_type": "markdown",
   "metadata": {},
   "source": [
    "In our data train we have 78 rows and 10 columns (10 Target and 9 features)"
   ]
  },
  {
   "cell_type": "code",
   "execution_count": 14,
   "metadata": {},
   "outputs": [
    {
     "data": {
      "text/plain": [
       "(18, 10)"
      ]
     },
     "execution_count": 14,
     "metadata": {},
     "output_type": "execute_result"
    }
   ],
   "source": [
    "test.shape"
   ]
  },
  {
   "cell_type": "markdown",
   "metadata": {},
   "source": [
    "In our data train we have 9 rows and 10 columns (1 Target and 9 features)"
   ]
  },
  {
   "cell_type": "code",
   "execution_count": 15,
   "metadata": {},
   "outputs": [
    {
     "data": {
      "text/html": [
       "<div>\n",
       "<style scoped>\n",
       "    .dataframe tbody tr th:only-of-type {\n",
       "        vertical-align: middle;\n",
       "    }\n",
       "\n",
       "    .dataframe tbody tr th {\n",
       "        vertical-align: top;\n",
       "    }\n",
       "\n",
       "    .dataframe thead th {\n",
       "        text-align: right;\n",
       "    }\n",
       "</style>\n",
       "<table border=\"1\" class=\"dataframe\">\n",
       "  <thead>\n",
       "    <tr style=\"text-align: right;\">\n",
       "      <th></th>\n",
       "      <th>id</th>\n",
       "      <th>km4week</th>\n",
       "      <th>sp4week</th>\n",
       "      <th>Wall21</th>\n",
       "      <th>MarathonTime</th>\n",
       "    </tr>\n",
       "  </thead>\n",
       "  <tbody>\n",
       "    <tr>\n",
       "      <th>count</th>\n",
       "      <td>69.000000</td>\n",
       "      <td>69.000000</td>\n",
       "      <td>69.000000</td>\n",
       "      <td>64.000000</td>\n",
       "      <td>69.000000</td>\n",
       "    </tr>\n",
       "    <tr>\n",
       "      <th>mean</th>\n",
       "      <td>45.173913</td>\n",
       "      <td>61.098551</td>\n",
       "      <td>173.197841</td>\n",
       "      <td>1.639844</td>\n",
       "      <td>3.341304</td>\n",
       "    </tr>\n",
       "    <tr>\n",
       "      <th>std</th>\n",
       "      <td>26.242622</td>\n",
       "      <td>26.478507</td>\n",
       "      <td>1337.831372</td>\n",
       "      <td>0.217908</td>\n",
       "      <td>0.384206</td>\n",
       "    </tr>\n",
       "    <tr>\n",
       "      <th>min</th>\n",
       "      <td>2.000000</td>\n",
       "      <td>17.900000</td>\n",
       "      <td>8.337931</td>\n",
       "      <td>1.230000</td>\n",
       "      <td>2.590000</td>\n",
       "    </tr>\n",
       "    <tr>\n",
       "      <th>25%</th>\n",
       "      <td>23.000000</td>\n",
       "      <td>41.600000</td>\n",
       "      <td>11.472527</td>\n",
       "      <td>1.472500</td>\n",
       "      <td>3.050000</td>\n",
       "    </tr>\n",
       "    <tr>\n",
       "      <th>50%</th>\n",
       "      <td>47.000000</td>\n",
       "      <td>54.200000</td>\n",
       "      <td>12.170040</td>\n",
       "      <td>1.620000</td>\n",
       "      <td>3.330000</td>\n",
       "    </tr>\n",
       "    <tr>\n",
       "      <th>75%</th>\n",
       "      <td>69.000000</td>\n",
       "      <td>76.800000</td>\n",
       "      <td>12.943820</td>\n",
       "      <td>1.777500</td>\n",
       "      <td>3.650000</td>\n",
       "    </tr>\n",
       "    <tr>\n",
       "      <th>max</th>\n",
       "      <td>87.000000</td>\n",
       "      <td>137.500000</td>\n",
       "      <td>11125.000000</td>\n",
       "      <td>2.050000</td>\n",
       "      <td>3.980000</td>\n",
       "    </tr>\n",
       "  </tbody>\n",
       "</table>\n",
       "</div>"
      ],
      "text/plain": [
       "              id     km4week       sp4week     Wall21  MarathonTime\n",
       "count  69.000000   69.000000     69.000000  64.000000     69.000000\n",
       "mean   45.173913   61.098551    173.197841   1.639844      3.341304\n",
       "std    26.242622   26.478507   1337.831372   0.217908      0.384206\n",
       "min     2.000000   17.900000      8.337931   1.230000      2.590000\n",
       "25%    23.000000   41.600000     11.472527   1.472500      3.050000\n",
       "50%    47.000000   54.200000     12.170040   1.620000      3.330000\n",
       "75%    69.000000   76.800000     12.943820   1.777500      3.650000\n",
       "max    87.000000  137.500000  11125.000000   2.050000      3.980000"
      ]
     },
     "execution_count": 15,
     "metadata": {},
     "output_type": "execute_result"
    }
   ],
   "source": [
    "# Generate some descriptive statistics of numerical data\n",
    "train.describe()"
   ]
  },
  {
   "cell_type": "markdown",
   "metadata": {},
   "source": [
    "We can see above, it seems there is an anomaly in `sp4week`"
   ]
  },
  {
   "cell_type": "markdown",
   "metadata": {},
   "source": [
    "## 4. Exploratory Data Analysis (EDA)\n",
    "\n",
    "There are 3 datatypes in the dataset:\n",
    "\n",
    "1. Target: `MarathonTime`\n",
    "\n",
    "2. Numerical: `km4week`, `sp4week`, `Wall21`\n",
    "\n",
    "3. Categorical: `Marathon`, `Name`, `Category`, `CrossTraining`, `CATEGORY`\n",
    "\n",
    "\n",
    "\n",
    "For each datatype, we will do different data exploration"
   ]
  },
  {
   "cell_type": "markdown",
   "metadata": {},
   "source": [
    "### • Target"
   ]
  },
  {
   "cell_type": "code",
   "execution_count": 16,
   "metadata": {},
   "outputs": [
    {
     "data": {
      "image/png": "[encoded data removed]",
      "text/plain": [
       "<Figure size 1600x400 with 2 Axes>"
      ]
     },
     "metadata": {},
     "output_type": "display_data"
    }
   ],
   "source": [
    "fig, axes = plt.subplots(1, 2, figsize=(16, 4))\n",
    "\n",
    "_ = sns.histplot(x=train['MarathonTime'], ax=axes[0])\n",
    "axes[0].set_title(f'Distribution of MarathonTime')\n",
    "        \n",
    "_ = sns.boxplot(x=train['MarathonTime'], ax=axes[1])\n",
    "axes[1].set_title(f'Boxplot of MarathonTime');\n",
    "\n",
    "plt.tight_layout()"
   ]
  },
  {
   "cell_type": "markdown",
   "metadata": {},
   "source": [
    "We can see that the distribution of marathon time looks like a uniform distribution, and it can be caused by the fact that the data that we are working with is not sufficient."
   ]
  },
  {
   "cell_type": "markdown",
   "metadata": {},
   "source": [
    "### • Numerical\n",
    "\n",
    "For numerical data type, we will see the distribution of each column and correlation among each column plus the target\n",
    "\n",
    "\n",
    "Numerical : `km4week`, `sp4week`, `Wall21`"
   ]
  },
  {
   "cell_type": "code",
   "execution_count": 17,
   "metadata": {},
   "outputs": [],
   "source": [
    "# defining a function to plot the distribution of data\n",
    "def plot_numerical(df, feature, length=16, wide=14):\n",
    "    fig, axes = plt.subplots(len(feature), 2, figsize=(length, wide))\n",
    "    for c, ax in zip(feature, axes):\n",
    "        skew = df[c].skew()\n",
    "        \n",
    "        _ = sns.histplot(x=df[c], ax=ax[0], bins='auto')\n",
    "        ax[0].set_title(f'Distribution of {c} (skewness = {skew:.3f})')\n",
    "        \n",
    "        \n",
    "        _ = sns.boxplot(x=df[c], ax=ax[1])\n",
    "        ax[1].set_title(f'''Boxplot of {c}''')\n",
    "        sns.despine()\n",
    "        \n",
    "    plt.tight_layout()\n",
    "    \n",
    "# defining a function to plot the correlation of features and target\n",
    "def plot_heatmap(df, feature, target):\n",
    "    plt.figure(figsize=(10,6))\n",
    "    \n",
    "    _ = sns.heatmap(pd.concat([df[feature], df[target]], axis=1).corr(), annot=True, annot_kws={\"fontsize\":13});\n",
    "    _.set_title(f'Correlation heatmap')"
   ]
  },
  {
   "cell_type": "code",
   "execution_count": 18,
   "metadata": {},
   "outputs": [],
   "source": [
    "num_col = ['km4week', 'sp4week', 'Wall21']"
   ]
  },
  {
   "cell_type": "code",
   "execution_count": 19,
   "metadata": {},
   "outputs": [
    {
     "data": {
      "image/png": "[encoded data removed]",
      "text/plain": [
       "<Figure size 1600x1400 with 6 Axes>"
      ]
     },
     "metadata": {},
     "output_type": "display_data"
    }
   ],
   "source": [
    "plot_numerical(train, num_col)"
   ]
  },
  {
   "cell_type": "markdown",
   "metadata": {},
   "source": [
    "The most intriguing thing from the figure above is in fact the `sp4week`, as what we have mentioned before, there is an anomaly is this feature whereas a really illogical huge value (more that 10000) is in the data. For the other features, they look kind of normal."
   ]
  },
  {
   "cell_type": "code",
   "execution_count": 20,
   "metadata": {},
   "outputs": [
    {
     "data": {
      "image/png": "[encoded data removed]",
      "text/plain": [
       "<Figure size 1000x600 with 2 Axes>"
      ]
     },
     "metadata": {},
     "output_type": "display_data"
    }
   ],
   "source": [
    "plot_heatmap(train, num_col, 'MarathonTime')"
   ]
  },
  {
   "cell_type": "markdown",
   "metadata": {},
   "source": [
    "Interestingly, There is a massive correlation between wall21 and Marathon time which of course makes a lot of sense since if you run fast for the fist 21 KM, you are likely to finish early at the finish line. About the information of training history, it appears that both of them are somewhat correlated with the `MarathonTime` especially `km4week`.\n",
    "\n",
    "One more thing need to be pointed out is the correlation between `km4week` and `Wall21` which is quite prominent although it is not as big as the value we need to be worry about."
   ]
  },
  {
   "cell_type": "markdown",
   "metadata": {},
   "source": [
    "### • Categorical\n",
    "\n",
    "Categorical Columns: `Marathon`, `Name`, `Category`, `CrossTraining`, `CATEGORY`\n",
    "\n",
    "We will not use `Marathon` and `Name` since both of that data doesn't give any useful information. Also we will leave out `CATEGORY` since it is derived from the marathon time which will do a data leak."
   ]
  },
  {
   "cell_type": "code",
   "execution_count": 21,
   "metadata": {},
   "outputs": [],
   "source": [
    "cat_cols = ['Category', 'CrossTraining']"
   ]
  },
  {
   "cell_type": "code",
   "execution_count": 38,
   "metadata": {},
   "outputs": [
    {
     "ename": "NameError",
     "evalue": "name 'cat_cols' is not defined",
     "output_type": "error",
     "traceback": [
      "\u001b[1;31m---------------------------------------------------------------------------\u001b[0m",
      "\u001b[1;31mNameError\u001b[0m                                 Traceback (most recent call last)",
      "Cell \u001b[1;32mIn [38], line 11\u001b[0m\n\u001b[0;32m      8\u001b[0m axes \u001b[38;5;241m=\u001b[39m axes\u001b[38;5;241m.\u001b[39mflatten()\n\u001b[0;32m     10\u001b[0m \u001b[38;5;66;03m# Use for loop to plot all of the categorical data into pie chart\u001b[39;00m\n\u001b[1;32m---> 11\u001b[0m \u001b[38;5;28;01mfor\u001b[39;00m c, ax \u001b[38;5;129;01min\u001b[39;00m \u001b[38;5;28mzip\u001b[39m(\u001b[43mcat_cols\u001b[49m, axes):\n\u001b[0;32m     12\u001b[0m     _ \u001b[38;5;241m=\u001b[39m train[c]\u001b[38;5;241m.\u001b[39mvalue_counts()\u001b[38;5;241m.\u001b[39msort_values(ascending\u001b[38;5;241m=\u001b[39m\u001b[38;5;28;01mFalse\u001b[39;00m)\u001b[38;5;241m.\u001b[39mplot(kind\u001b[38;5;241m=\u001b[39m\u001b[38;5;124m'\u001b[39m\u001b[38;5;124mpie\u001b[39m\u001b[38;5;124m'\u001b[39m, fontsize\u001b[38;5;241m=\u001b[39m\u001b[38;5;241m10\u001b[39m, autopct\u001b[38;5;241m=\u001b[39mautopct, ax\u001b[38;5;241m=\u001b[39max, title\u001b[38;5;241m=\u001b[39mc);\n\u001b[0;32m     13\u001b[0m     _ \u001b[38;5;241m=\u001b[39m ax\u001b[38;5;241m.\u001b[39mset_ylabel(\u001b[38;5;124m'\u001b[39m\u001b[38;5;124m'\u001b[39m)\n",
      "\u001b[1;31mNameError\u001b[0m: name 'cat_cols' is not defined"
     ]
    },
    {
     "data": {
      "image/png": "[encoded data removed]",
      "text/plain": [
       "<Figure size 800x1500 with 2 Axes>"
      ]
     },
     "metadata": {},
     "output_type": "display_data"
    }
   ],
   "source": [
    "# create a function to only show the label when it's > 5%\n",
    "def autopct(pct): \n",
    "    return ('%1.1f%%' % pct) if pct > 5 else ''\n",
    "\n",
    "fig, axes = plt.subplots(1, 2, figsize=(8,15))\n",
    "\n",
    "# flat the axes to be in one line of list\n",
    "axes = axes.flatten()\n",
    "\n",
    "# Use for loop to plot all of the categorical data into pie chart\n",
    "for c, ax in zip(cat_cols, axes):\n",
    "    _ = train[c].value_counts().sort_values(ascending=False).plot(kind='pie', fontsize=10, autopct=autopct, ax=ax, title=c);\n",
    "    _ = ax.set_ylabel('')\n",
    "_ = plt.tight_layout()"
   ]
  },
  {
   "cell_type": "markdown",
   "metadata": {},
   "source": [
    "based on the figure above, we can see that there are 2 features with 1 possible categories, 1 features with 6 possible categories"
   ]
  },
  {
   "cell_type": "markdown",
   "metadata": {},
   "source": [
    "In order to find correlation between the categorical features and our target which is continuous, we will use point biserial correlation."
   ]
  },
  {
   "cell_type": "code",
   "execution_count": 23,
   "metadata": {},
   "outputs": [
    {
     "data": {
      "image/png": "[encoded data removed]",
      "text/plain": [
       "<Figure size 1000x400 with 4 Axes>"
      ]
     },
     "metadata": {},
     "output_type": "display_data"
    }
   ],
   "source": [
    "# encoding the categorical data\n",
    "encoder = OneHotEncoder()\n",
    "\n",
    "fig, axes = plt.subplots(1, 2, figsize=(10,4))\n",
    "\n",
    "# flat the axes to be in one line of list\n",
    "axes = axes.flatten()\n",
    "\n",
    "# use for loop to encode the data and plot it into a heatmap\n",
    "for c, ax in zip(cat_cols, axes):\n",
    "    heatmap = []\n",
    "    encoder_df = pd.DataFrame(encoder.fit_transform(train[[c]]).toarray())\n",
    "    for cat in encoder_df:\n",
    "        heatmap.append(st.pointbiserialr(encoder_df[cat], train['MarathonTime'])[0])\n",
    "        \n",
    "    _ = sns.heatmap(np.array(heatmap).reshape(-1,1), annot=True, ax=ax, vmin=-1, vmax=1);\n",
    "    _.set(ylabel=c, xlabel='price')\n",
    "    _.set_title(f'{c} and MarathonTime correlation')\n",
    "\n",
    "    plt.tight_layout()"
   ]
  },
  {
   "cell_type": "markdown",
   "metadata": {},
   "source": [
    "From the visualization of the biserial correlation above, both categorical data have some categories which have a relatively significant correlation with `MarathonTime`. For instance, number 1 and 6 for `Category` and almost every category in `Crosstraining`"
   ]
  },
  {
   "cell_type": "markdown",
   "metadata": {},
   "source": [
    "### • Feature Selection\n",
    "\n",
    "Based in the Exploratory Data Analysis that we have done, we consider to include these feature(s) for our regression model:\n",
    "\n",
    "- `km4week`, `sp4week` and `Wall21` : Have a relatively significant correlation with the target\n",
    "- `Category` and `CrossTraining` : Have some relatively significant  biserial correlation with the target."
   ]
  },
  {
   "cell_type": "code",
   "execution_count": 24,
   "metadata": {},
   "outputs": [],
   "source": [
    "feature_num = ['km4week', 'sp4week', 'Wall21']\n",
    "feature_cat = ['Category', 'CrossTraining']\n",
    "target = ['MarathonTime']"
   ]
  },
  {
   "cell_type": "code",
   "execution_count": 25,
   "metadata": {},
   "outputs": [
    {
     "data": {
      "text/html": [
       "<div>\n",
       "<style scoped>\n",
       "    .dataframe tbody tr th:only-of-type {\n",
       "        vertical-align: middle;\n",
       "    }\n",
       "\n",
       "    .dataframe tbody tr th {\n",
       "        vertical-align: top;\n",
       "    }\n",
       "\n",
       "    .dataframe thead th {\n",
       "        text-align: right;\n",
       "    }\n",
       "</style>\n",
       "<table border=\"1\" class=\"dataframe\">\n",
       "  <thead>\n",
       "    <tr style=\"text-align: right;\">\n",
       "      <th></th>\n",
       "      <th>km4week</th>\n",
       "      <th>sp4week</th>\n",
       "      <th>Wall21</th>\n",
       "      <th>Category</th>\n",
       "      <th>CrossTraining</th>\n",
       "      <th>MarathonTime</th>\n",
       "    </tr>\n",
       "  </thead>\n",
       "  <tbody>\n",
       "    <tr>\n",
       "      <th>78</th>\n",
       "      <td>28.0</td>\n",
       "      <td>11.200000</td>\n",
       "      <td>1.97</td>\n",
       "      <td>MAM</td>\n",
       "      <td>NaN</td>\n",
       "      <td>3.89</td>\n",
       "    </tr>\n",
       "    <tr>\n",
       "      <th>30</th>\n",
       "      <td>52.5</td>\n",
       "      <td>12.549801</td>\n",
       "      <td>1.62</td>\n",
       "      <td>MAM</td>\n",
       "      <td>ciclista 3h</td>\n",
       "      <td>3.19</td>\n",
       "    </tr>\n",
       "    <tr>\n",
       "      <th>21</th>\n",
       "      <td>67.3</td>\n",
       "      <td>13.239344</td>\n",
       "      <td>1.50</td>\n",
       "      <td>M40</td>\n",
       "      <td>NaN</td>\n",
       "      <td>3.04</td>\n",
       "    </tr>\n",
       "  </tbody>\n",
       "</table>\n",
       "</div>"
      ],
      "text/plain": [
       "    km4week    sp4week  Wall21 Category CrossTraining  MarathonTime\n",
       "78     28.0  11.200000    1.97      MAM           NaN          3.89\n",
       "30     52.5  12.549801    1.62      MAM   ciclista 3h          3.19\n",
       "21     67.3  13.239344    1.50      M40           NaN          3.04"
      ]
     },
     "execution_count": 25,
     "metadata": {},
     "output_type": "execute_result"
    }
   ],
   "source": [
    "# select feature for train and test data\n",
    "train_selected = train[feature_num + feature_cat + target]\n",
    "test_selected = test[feature_num + feature_cat + target]\n",
    "train_selected.head(3)"
   ]
  },
  {
   "cell_type": "code",
   "execution_count": 26,
   "metadata": {},
   "outputs": [
    {
     "name": "stdout",
     "output_type": "stream",
     "text": [
      "Train Size :  (69, 6)\n",
      "Test Size  :  (18, 6)\n"
     ]
    }
   ],
   "source": [
    "print('Train Size : ', train_selected.shape)\n",
    "print('Test Size  : ', test_selected.shape)"
   ]
  },
  {
   "cell_type": "markdown",
   "metadata": {},
   "source": [
    "## 5. Data Preprocessing"
   ]
  },
  {
   "cell_type": "markdown",
   "metadata": {},
   "source": [
    "### • Data for model inference"
   ]
  },
  {
   "cell_type": "code",
   "execution_count": 27,
   "metadata": {},
   "outputs": [
    {
     "data": {
      "text/html": [
       "<div>\n",
       "<style scoped>\n",
       "    .dataframe tbody tr th:only-of-type {\n",
       "        vertical-align: middle;\n",
       "    }\n",
       "\n",
       "    .dataframe tbody tr th {\n",
       "        vertical-align: top;\n",
       "    }\n",
       "\n",
       "    .dataframe thead th {\n",
       "        text-align: right;\n",
       "    }\n",
       "</style>\n",
       "<table border=\"1\" class=\"dataframe\">\n",
       "  <thead>\n",
       "    <tr style=\"text-align: right;\">\n",
       "      <th></th>\n",
       "      <th>km4week</th>\n",
       "      <th>sp4week</th>\n",
       "      <th>Wall21</th>\n",
       "      <th>Category</th>\n",
       "      <th>CrossTraining</th>\n",
       "    </tr>\n",
       "  </thead>\n",
       "  <tbody>\n",
       "    <tr>\n",
       "      <th>0</th>\n",
       "      <td>100.3</td>\n",
       "      <td>11.043189</td>\n",
       "      <td>2.10</td>\n",
       "      <td>MAM</td>\n",
       "      <td>yes</td>\n",
       "    </tr>\n",
       "    <tr>\n",
       "      <th>1</th>\n",
       "      <td>70.2</td>\n",
       "      <td>12.000000</td>\n",
       "      <td>1.92</td>\n",
       "      <td>M40</td>\n",
       "      <td>no</td>\n",
       "    </tr>\n",
       "    <tr>\n",
       "      <th>2</th>\n",
       "      <td>60.3</td>\n",
       "      <td>10.000000</td>\n",
       "      <td>2.30</td>\n",
       "      <td>WAM</td>\n",
       "      <td>yes</td>\n",
       "    </tr>\n",
       "  </tbody>\n",
       "</table>\n",
       "</div>"
      ],
      "text/plain": [
       "   km4week    sp4week  Wall21 Category CrossTraining\n",
       "0    100.3  11.043189    2.10      MAM           yes\n",
       "1     70.2  12.000000    1.92      M40            no\n",
       "2     60.3  10.000000    2.30      WAM           yes"
      ]
     },
     "execution_count": 27,
     "metadata": {},
     "output_type": "execute_result"
    }
   ],
   "source": [
    "# Create a synthetic Data for Model Inference\n",
    "\n",
    "df_inf = pd.DataFrame({\n",
    "    'km4week': [100.3,70.2,60.3],\n",
    "    'sp4week': [11.043189,12,10],\n",
    "    'Wall21': [2.1, 1.92, 2.30],\n",
    "    'Category': ['MAM', 'M40', 'WAM'],\n",
    "    'CrossTraining': ['yes', 'no', 'yes'],\n",
    "    })\n",
    "\n",
    "df_inf.head(3)"
   ]
  },
  {
   "cell_type": "markdown",
   "metadata": {},
   "source": [
    "### • Handling outliers"
   ]
  },
  {
   "cell_type": "code",
   "execution_count": 28,
   "metadata": {},
   "outputs": [],
   "source": [
    "# Defining a function to analyze outlier in the data\n",
    "\n",
    "def outlier_analysis(df, col):\n",
    "    skewness = df[col].skew()\n",
    "    if skewness >= 0.5 and skewness<=0.5:\n",
    "        upper = df[col].mean() + 3*df[col].std()\n",
    "        lower = df[col].mean() - 3*df[col].std()\n",
    "        method = 'Z-Score'\n",
    "    else:\n",
    "        q3 = df[col].quantile(0.75)\n",
    "        q1 = df[col].quantile(0.25)\n",
    "        iqr = q3 - q1\n",
    "        upper_bound = q3 + (iqr * 3)\n",
    "        lower_bound = q1 - (iqr * 3)\n",
    "        method = 'IQR'\n",
    "\n",
    "    outlier = df.loc[(df[col] > upper_bound) | (df[col] < lower_bound)]\n",
    "    \n",
    "    return outlier, method, upper_bound, lower_bound"
   ]
  },
  {
   "cell_type": "code",
   "execution_count": 29,
   "metadata": {},
   "outputs": [],
   "source": [
    "# using for loop to go through every numerical column and handle their outliers\n",
    "for col in feature_num:\n",
    "    out, method, up, low = outlier_analysis(train_selected, col)\n",
    "    pct_out = (len(out)/len(train))*100\n",
    "    \n",
    "    # if outliers percentage is under 10%, we will drop the data\n",
    "    if pct_out <= 10:\n",
    "        train_selected = train_selected[(train_selected[col]>=low) & (train_selected[col]<=up)]\n",
    "    # if outliers percentage is over 10%, we will cap the outliers \n",
    "    else:\n",
    "        train_selected[col] = train_selected[col].apply(lambda x: up if x>=up else low if x<=low else x)"
   ]
  },
  {
   "cell_type": "code",
   "execution_count": 30,
   "metadata": {},
   "outputs": [
    {
     "data": {
      "text/plain": [
       "(63, 6)"
      ]
     },
     "execution_count": 30,
     "metadata": {},
     "output_type": "execute_result"
    }
   ],
   "source": [
    "train_selected.shape"
   ]
  },
  {
   "cell_type": "markdown",
   "metadata": {},
   "source": [
    "After outliers handling, we are left with 63 rows and 6 columns"
   ]
  },
  {
   "cell_type": "markdown",
   "metadata": {},
   "source": [
    "### • Handling missing values"
   ]
  },
  {
   "cell_type": "code",
   "execution_count": 31,
   "metadata": {},
   "outputs": [
    {
     "data": {
      "text/plain": [
       "km4week           0\n",
       "sp4week           0\n",
       "Wall21            0\n",
       "Category          0\n",
       "CrossTraining    52\n",
       "MarathonTime      0\n",
       "dtype: int64"
      ]
     },
     "execution_count": 31,
     "metadata": {},
     "output_type": "execute_result"
    }
   ],
   "source": [
    "# Finding missing values\n",
    "train_selected.isnull().sum()"
   ]
  },
  {
   "cell_type": "code",
   "execution_count": 32,
   "metadata": {},
   "outputs": [
    {
     "data": {
      "text/plain": [
       "km4week           0\n",
       "sp4week           0\n",
       "Wall21            1\n",
       "Category          1\n",
       "CrossTraining    16\n",
       "MarathonTime      0\n",
       "dtype: int64"
      ]
     },
     "execution_count": 32,
     "metadata": {},
     "output_type": "execute_result"
    }
   ],
   "source": [
    "# Finding missing values\n",
    "test_selected.isnull().sum()"
   ]
  },
  {
   "cell_type": "markdown",
   "metadata": {},
   "source": [
    "Since there is missing values in `CrossTraining`, `Wall21` and `Category`, we will do a missing values handling"
   ]
  },
  {
   "cell_type": "code",
   "execution_count": 33,
   "metadata": {},
   "outputs": [],
   "source": [
    "# we fill the NaN in crosstrain with No\n",
    "train_selected['CrossTraining'] = train_selected['CrossTraining'].fillna('No')\n",
    "test_selected['CrossTraining'] = test_selected['CrossTraining'].fillna('No')\n",
    "\n",
    "# fill NaN values in test with central tendency value in train data\n",
    "test_selected['Wall21'] = test_selected['Wall21'].fillna(train_selected['Wall21'].mean())\n",
    "test_selected['Category'] = test_selected['Category'].fillna(train_selected['Category'].mode()[0])"
   ]
  },
  {
   "cell_type": "code",
   "execution_count": 34,
   "metadata": {},
   "outputs": [
    {
     "data": {
      "text/plain": [
       "km4week          0\n",
       "sp4week          0\n",
       "Wall21           0\n",
       "Category         0\n",
       "CrossTraining    0\n",
       "MarathonTime     0\n",
       "dtype: int64"
      ]
     },
     "execution_count": 34,
     "metadata": {},
     "output_type": "execute_result"
    }
   ],
   "source": [
    "# Finding missing values\n",
    "train_selected.isnull().sum()"
   ]
  },
  {
   "cell_type": "code",
   "execution_count": 35,
   "metadata": {},
   "outputs": [
    {
     "data": {
      "text/plain": [
       "km4week          0\n",
       "sp4week          0\n",
       "Wall21           0\n",
       "Category         0\n",
       "CrossTraining    0\n",
       "MarathonTime     0\n",
       "dtype: int64"
      ]
     },
     "execution_count": 35,
     "metadata": {},
     "output_type": "execute_result"
    }
   ],
   "source": [
    "# Finding missing values\n",
    "test_selected.isnull().sum()"
   ]
  },
  {
   "cell_type": "markdown",
   "metadata": {},
   "source": [
    "There is no more missing values "
   ]
  },
  {
   "cell_type": "markdown",
   "metadata": {},
   "source": [
    "### • Cardinality Handling\n",
    "\n",
    "We will do cardinality handling to this feature:\n",
    "\n",
    "- `CrossTraining` : \n",
    "Ciclista 1-13 -> 'yes'\n"
   ]
  },
  {
   "cell_type": "code",
   "execution_count": 36,
   "metadata": {},
   "outputs": [
    {
     "data": {
      "text/plain": [
       "No              52\n",
       "ciclista 3h      4\n",
       "ciclista 5h      3\n",
       "ciclista 4h      2\n",
       "ciclista 13h     1\n",
       "ciclista 1h      1\n",
       "Name: CrossTraining, dtype: int64"
      ]
     },
     "execution_count": 36,
     "metadata": {},
     "output_type": "execute_result"
    }
   ],
   "source": [
    "train_selected['CrossTraining'].value_counts()"
   ]
  },
  {
   "cell_type": "code",
   "execution_count": 37,
   "metadata": {},
   "outputs": [
    {
     "data": {
      "text/plain": [
       "no     52\n",
       "yes    11\n",
       "Name: CrossTraining, dtype: int64"
      ]
     },
     "execution_count": 37,
     "metadata": {},
     "output_type": "execute_result"
    }
   ],
   "source": [
    "train_selected['CrossTraining'] = np.where(train_selected['CrossTraining'].isin(['ciclista 3h', 'ciclista 5h','ciclista 4h','ciclista 13h','ciclista 1h']), 'yes', 'no')\n",
    "test_selected['CrossTraining'] = np.where(test_selected['CrossTraining'].isin(['ciclista 3h', 'ciclista 5h','ciclista 4h','ciclista 13h','ciclista 1h']), 'yes', 'no')\n",
    "train_selected['CrossTraining'].value_counts()"
   ]
  },
  {
   "cell_type": "markdown",
   "metadata": {},
   "source": [
    "### • Splitting between `X` (Features) and `y` (Target)"
   ]
  },
  {
   "cell_type": "code",
   "execution_count": 38,
   "metadata": {},
   "outputs": [
    {
     "name": "stdout",
     "output_type": "stream",
     "text": [
      "Train Size :  (63, 5)\n",
      "Test Size  :  (18, 5)\n"
     ]
    }
   ],
   "source": [
    "# Split between Train-Set and Test-Set\n",
    "\n",
    "X_train = train_selected[feature_num + feature_cat]\n",
    "X_test = test_selected[feature_num + feature_cat]\n",
    "y_train = train_selected[target]\n",
    "y_test = test_selected[target]\n",
    "\n",
    "print('Train Size : ', X_train.shape)\n",
    "print('Test Size  : ', X_test.shape)"
   ]
  },
  {
   "cell_type": "markdown",
   "metadata": {},
   "source": [
    "### • Splitting Numerical Columns and Categorical Columns"
   ]
  },
  {
   "cell_type": "code",
   "execution_count": 39,
   "metadata": {},
   "outputs": [],
   "source": [
    "# Split between numerical and categorical features\n",
    "\n",
    "X_train_num = X_train[feature_num]\n",
    "X_train_cat = X_train[feature_cat]\n",
    "\n",
    "X_test_num = X_test[feature_num]\n",
    "X_test_cat = X_test[feature_cat]\n"
   ]
  },
  {
   "cell_type": "markdown",
   "metadata": {},
   "source": [
    "### • Feature encoding"
   ]
  },
  {
   "cell_type": "code",
   "execution_count": 40,
   "metadata": {},
   "outputs": [
    {
     "data": {
      "text/html": [
       "<div>\n",
       "<style scoped>\n",
       "    .dataframe tbody tr th:only-of-type {\n",
       "        vertical-align: middle;\n",
       "    }\n",
       "\n",
       "    .dataframe tbody tr th {\n",
       "        vertical-align: top;\n",
       "    }\n",
       "\n",
       "    .dataframe thead th {\n",
       "        text-align: right;\n",
       "    }\n",
       "</style>\n",
       "<table border=\"1\" class=\"dataframe\">\n",
       "  <thead>\n",
       "    <tr style=\"text-align: right;\">\n",
       "      <th></th>\n",
       "      <th>0</th>\n",
       "      <th>1</th>\n",
       "      <th>2</th>\n",
       "      <th>3</th>\n",
       "      <th>4</th>\n",
       "      <th>5</th>\n",
       "      <th>6</th>\n",
       "      <th>7</th>\n",
       "    </tr>\n",
       "  </thead>\n",
       "  <tbody>\n",
       "    <tr>\n",
       "      <th>0</th>\n",
       "      <td>0.0</td>\n",
       "      <td>0.0</td>\n",
       "      <td>0.0</td>\n",
       "      <td>0.0</td>\n",
       "      <td>1.0</td>\n",
       "      <td>0.0</td>\n",
       "      <td>1.0</td>\n",
       "      <td>0.0</td>\n",
       "    </tr>\n",
       "    <tr>\n",
       "      <th>1</th>\n",
       "      <td>0.0</td>\n",
       "      <td>0.0</td>\n",
       "      <td>0.0</td>\n",
       "      <td>0.0</td>\n",
       "      <td>1.0</td>\n",
       "      <td>0.0</td>\n",
       "      <td>0.0</td>\n",
       "      <td>1.0</td>\n",
       "    </tr>\n",
       "    <tr>\n",
       "      <th>2</th>\n",
       "      <td>1.0</td>\n",
       "      <td>0.0</td>\n",
       "      <td>0.0</td>\n",
       "      <td>0.0</td>\n",
       "      <td>0.0</td>\n",
       "      <td>0.0</td>\n",
       "      <td>1.0</td>\n",
       "      <td>0.0</td>\n",
       "    </tr>\n",
       "    <tr>\n",
       "      <th>3</th>\n",
       "      <td>0.0</td>\n",
       "      <td>0.0</td>\n",
       "      <td>0.0</td>\n",
       "      <td>0.0</td>\n",
       "      <td>1.0</td>\n",
       "      <td>0.0</td>\n",
       "      <td>1.0</td>\n",
       "      <td>0.0</td>\n",
       "    </tr>\n",
       "    <tr>\n",
       "      <th>4</th>\n",
       "      <td>0.0</td>\n",
       "      <td>1.0</td>\n",
       "      <td>0.0</td>\n",
       "      <td>0.0</td>\n",
       "      <td>0.0</td>\n",
       "      <td>0.0</td>\n",
       "      <td>1.0</td>\n",
       "      <td>0.0</td>\n",
       "    </tr>\n",
       "    <tr>\n",
       "      <th>...</th>\n",
       "      <td>...</td>\n",
       "      <td>...</td>\n",
       "      <td>...</td>\n",
       "      <td>...</td>\n",
       "      <td>...</td>\n",
       "      <td>...</td>\n",
       "      <td>...</td>\n",
       "      <td>...</td>\n",
       "    </tr>\n",
       "    <tr>\n",
       "      <th>58</th>\n",
       "      <td>0.0</td>\n",
       "      <td>0.0</td>\n",
       "      <td>0.0</td>\n",
       "      <td>0.0</td>\n",
       "      <td>1.0</td>\n",
       "      <td>0.0</td>\n",
       "      <td>1.0</td>\n",
       "      <td>0.0</td>\n",
       "    </tr>\n",
       "    <tr>\n",
       "      <th>59</th>\n",
       "      <td>0.0</td>\n",
       "      <td>0.0</td>\n",
       "      <td>0.0</td>\n",
       "      <td>0.0</td>\n",
       "      <td>1.0</td>\n",
       "      <td>0.0</td>\n",
       "      <td>0.0</td>\n",
       "      <td>1.0</td>\n",
       "    </tr>\n",
       "    <tr>\n",
       "      <th>60</th>\n",
       "      <td>1.0</td>\n",
       "      <td>0.0</td>\n",
       "      <td>0.0</td>\n",
       "      <td>0.0</td>\n",
       "      <td>0.0</td>\n",
       "      <td>0.0</td>\n",
       "      <td>1.0</td>\n",
       "      <td>0.0</td>\n",
       "    </tr>\n",
       "    <tr>\n",
       "      <th>61</th>\n",
       "      <td>0.0</td>\n",
       "      <td>0.0</td>\n",
       "      <td>0.0</td>\n",
       "      <td>0.0</td>\n",
       "      <td>0.0</td>\n",
       "      <td>1.0</td>\n",
       "      <td>1.0</td>\n",
       "      <td>0.0</td>\n",
       "    </tr>\n",
       "    <tr>\n",
       "      <th>62</th>\n",
       "      <td>0.0</td>\n",
       "      <td>0.0</td>\n",
       "      <td>0.0</td>\n",
       "      <td>0.0</td>\n",
       "      <td>1.0</td>\n",
       "      <td>0.0</td>\n",
       "      <td>1.0</td>\n",
       "      <td>0.0</td>\n",
       "    </tr>\n",
       "  </tbody>\n",
       "</table>\n",
       "<p>63 rows × 8 columns</p>\n",
       "</div>"
      ],
      "text/plain": [
       "      0    1    2    3    4    5    6    7\n",
       "0   0.0  0.0  0.0  0.0  1.0  0.0  1.0  0.0\n",
       "1   0.0  0.0  0.0  0.0  1.0  0.0  0.0  1.0\n",
       "2   1.0  0.0  0.0  0.0  0.0  0.0  1.0  0.0\n",
       "3   0.0  0.0  0.0  0.0  1.0  0.0  1.0  0.0\n",
       "4   0.0  1.0  0.0  0.0  0.0  0.0  1.0  0.0\n",
       "..  ...  ...  ...  ...  ...  ...  ...  ...\n",
       "58  0.0  0.0  0.0  0.0  1.0  0.0  1.0  0.0\n",
       "59  0.0  0.0  0.0  0.0  1.0  0.0  0.0  1.0\n",
       "60  1.0  0.0  0.0  0.0  0.0  0.0  1.0  0.0\n",
       "61  0.0  0.0  0.0  0.0  0.0  1.0  1.0  0.0\n",
       "62  0.0  0.0  0.0  0.0  1.0  0.0  1.0  0.0\n",
       "\n",
       "[63 rows x 8 columns]"
      ]
     },
     "execution_count": 40,
     "metadata": {},
     "output_type": "execute_result"
    }
   ],
   "source": [
    "# using one hot encoder to encode the categorical data\n",
    "\n",
    "encoder = OneHotEncoder(handle_unknown='ignore').fit(X_train_cat)\n",
    "\n",
    "\n",
    "encoded_X_train = pd.DataFrame(encoder.transform(X_train_cat).toarray())\n",
    "encoded_X_test = pd.DataFrame(encoder.transform(X_test_cat).toarray())\n",
    "encoded_X_train"
   ]
  },
  {
   "cell_type": "markdown",
   "metadata": {},
   "source": [
    "### • Feature scaling"
   ]
  },
  {
   "cell_type": "code",
   "execution_count": 41,
   "metadata": {},
   "outputs": [
    {
     "data": {
      "text/html": [
       "<style>#sk-container-id-1 {color: black;background-color: white;}#sk-container-id-1 pre{padding: 0;}#sk-container-id-1 div.sk-toggleable {background-color: white;}#sk-container-id-1 label.sk-toggleable__label {cursor: pointer;display: block;width: 100%;margin-bottom: 0;padding: 0.3em;box-sizing: border-box;text-align: center;}#sk-container-id-1 label.sk-toggleable__label-arrow:before {content: \"▸\";float: left;margin-right: 0.25em;color: #696969;}#sk-container-id-1 label.sk-toggleable__label-arrow:hover:before {color: black;}#sk-container-id-1 div.sk-estimator:hover label.sk-toggleable__label-arrow:before {color: black;}#sk-container-id-1 div.sk-toggleable__content {max-height: 0;max-width: 0;overflow: hidden;text-align: left;background-color: #f0f8ff;}#sk-container-id-1 div.sk-toggleable__content pre {margin: 0.2em;color: black;border-radius: 0.25em;background-color: #f0f8ff;}#sk-container-id-1 input.sk-toggleable__control:checked~div.sk-toggleable__content {max-height: 200px;max-width: 100%;overflow: auto;}#sk-container-id-1 input.sk-toggleable__control:checked~label.sk-toggleable__label-arrow:before {content: \"▾\";}#sk-container-id-1 div.sk-estimator input.sk-toggleable__control:checked~label.sk-toggleable__label {background-color: #d4ebff;}#sk-container-id-1 div.sk-label input.sk-toggleable__control:checked~label.sk-toggleable__label {background-color: #d4ebff;}#sk-container-id-1 input.sk-hidden--visually {border: 0;clip: rect(1px 1px 1px 1px);clip: rect(1px, 1px, 1px, 1px);height: 1px;margin: -1px;overflow: hidden;padding: 0;position: absolute;width: 1px;}#sk-container-id-1 div.sk-estimator {font-family: monospace;background-color: #f0f8ff;border: 1px dotted black;border-radius: 0.25em;box-sizing: border-box;margin-bottom: 0.5em;}#sk-container-id-1 div.sk-estimator:hover {background-color: #d4ebff;}#sk-container-id-1 div.sk-parallel-item::after {content: \"\";width: 100%;border-bottom: 1px solid gray;flex-grow: 1;}#sk-container-id-1 div.sk-label:hover label.sk-toggleable__label {background-color: #d4ebff;}#sk-container-id-1 div.sk-serial::before {content: \"\";position: absolute;border-left: 1px solid gray;box-sizing: border-box;top: 0;bottom: 0;left: 50%;z-index: 0;}#sk-container-id-1 div.sk-serial {display: flex;flex-direction: column;align-items: center;background-color: white;padding-right: 0.2em;padding-left: 0.2em;position: relative;}#sk-container-id-1 div.sk-item {position: relative;z-index: 1;}#sk-container-id-1 div.sk-parallel {display: flex;align-items: stretch;justify-content: center;background-color: white;position: relative;}#sk-container-id-1 div.sk-item::before, #sk-container-id-1 div.sk-parallel-item::before {content: \"\";position: absolute;border-left: 1px solid gray;box-sizing: border-box;top: 0;bottom: 0;left: 50%;z-index: -1;}#sk-container-id-1 div.sk-parallel-item {display: flex;flex-direction: column;z-index: 1;position: relative;background-color: white;}#sk-container-id-1 div.sk-parallel-item:first-child::after {align-self: flex-end;width: 50%;}#sk-container-id-1 div.sk-parallel-item:last-child::after {align-self: flex-start;width: 50%;}#sk-container-id-1 div.sk-parallel-item:only-child::after {width: 0;}#sk-container-id-1 div.sk-dashed-wrapped {border: 1px dashed gray;margin: 0 0.4em 0.5em 0.4em;box-sizing: border-box;padding-bottom: 0.4em;background-color: white;}#sk-container-id-1 div.sk-label label {font-family: monospace;font-weight: bold;display: inline-block;line-height: 1.2em;}#sk-container-id-1 div.sk-label-container {text-align: center;}#sk-container-id-1 div.sk-container {/* jupyter's `normalize.less` sets `[hidden] { display: none; }` but bootstrap.min.css set `[hidden] { display: none !important; }` so we also need the `!important` here to be able to override the default hidden behavior on the sphinx rendered scikit-learn.org. See: https://github.com/scikit-learn/scikit-learn/issues/21755 */display: inline-block !important;position: relative;}#sk-container-id-1 div.sk-text-repr-fallback {display: none;}</style><div id=\"sk-container-id-1\" class=\"sk-top-container\"><div class=\"sk-text-repr-fallback\"><pre>MinMaxScaler()</pre><b>In a Jupyter environment, please rerun this cell to show the HTML representation or trust the notebook. <br />On GitHub, the HTML representation is unable to render, please try loading this page with nbviewer.org.</b></div><div class=\"sk-container\" hidden><div class=\"sk-item\"><div class=\"sk-estimator sk-toggleable\"><input class=\"sk-toggleable__control sk-hidden--visually\" id=\"sk-estimator-id-1\" type=\"checkbox\" checked><label for=\"sk-estimator-id-1\" class=\"sk-toggleable__label sk-toggleable__label-arrow\">MinMaxScaler</label><div class=\"sk-toggleable__content\"><pre>MinMaxScaler()</pre></div></div></div></div></div>"
      ],
      "text/plain": [
       "MinMaxScaler()"
      ]
     },
     "execution_count": 41,
     "metadata": {},
     "output_type": "execute_result"
    }
   ],
   "source": [
    "# finding the suitable scaling method for feature scaling\n",
    "norm = 0\n",
    "nonorm = 0\n",
    "for col in X_train_num.columns:\n",
    "    if X_train_num[col].skew() >=-0.5 and train[col].skew() <0.5:\n",
    "        norm += 1\n",
    "    else:\n",
    "        nonorm +=1\n",
    "        \n",
    "    if norm > nonorm:\n",
    "        scaler = StandardScaler()\n",
    "    else:\n",
    "        scaler = MinMaxScaler()\n",
    "scaler"
   ]
  },
  {
   "cell_type": "markdown",
   "metadata": {},
   "source": [
    "We will use MinMax Scaler to do feature scaling"
   ]
  },
  {
   "cell_type": "code",
   "execution_count": 42,
   "metadata": {},
   "outputs": [],
   "source": [
    "# Feature scaling using MinMax Scaler\n",
    "\n",
    "scaled_X_train = scaler.fit_transform(X_train_num)\n",
    "scaled_X_test = scaler.transform(X_test_num)"
   ]
  },
  {
   "cell_type": "markdown",
   "metadata": {},
   "source": [
    "### • Concate between Numerical Columns and Categorical Columns"
   ]
  },
  {
   "cell_type": "code",
   "execution_count": 43,
   "metadata": {},
   "outputs": [],
   "source": [
    "# Concate Columns\n",
    "\n",
    "X_train_final = np.concatenate([scaled_X_train, encoded_X_train], axis=1)\n",
    "X_test_final = np.concatenate([scaled_X_test, encoded_X_test], axis=1)"
   ]
  },
  {
   "cell_type": "code",
   "execution_count": 44,
   "metadata": {},
   "outputs": [
    {
     "data": {
      "text/html": [
       "<div>\n",
       "<style scoped>\n",
       "    .dataframe tbody tr th:only-of-type {\n",
       "        vertical-align: middle;\n",
       "    }\n",
       "\n",
       "    .dataframe tbody tr th {\n",
       "        vertical-align: top;\n",
       "    }\n",
       "\n",
       "    .dataframe thead tr th {\n",
       "        text-align: left;\n",
       "    }\n",
       "</style>\n",
       "<table border=\"1\" class=\"dataframe\">\n",
       "  <thead>\n",
       "    <tr>\n",
       "      <th></th>\n",
       "      <th>km4week</th>\n",
       "      <th>sp4week</th>\n",
       "      <th>Wall21</th>\n",
       "      <th>0</th>\n",
       "      <th>1</th>\n",
       "      <th>2</th>\n",
       "      <th>3</th>\n",
       "      <th>4</th>\n",
       "      <th>5</th>\n",
       "      <th>6</th>\n",
       "      <th>7</th>\n",
       "    </tr>\n",
       "  </thead>\n",
       "  <tbody>\n",
       "    <tr>\n",
       "      <th>0</th>\n",
       "      <td>0.084448</td>\n",
       "      <td>0.431518</td>\n",
       "      <td>0.902439</td>\n",
       "      <td>0.0</td>\n",
       "      <td>0.0</td>\n",
       "      <td>0.0</td>\n",
       "      <td>0.0</td>\n",
       "      <td>1.0</td>\n",
       "      <td>0.0</td>\n",
       "      <td>1.0</td>\n",
       "      <td>0.0</td>\n",
       "    </tr>\n",
       "    <tr>\n",
       "      <th>1</th>\n",
       "      <td>0.289298</td>\n",
       "      <td>0.635029</td>\n",
       "      <td>0.475610</td>\n",
       "      <td>0.0</td>\n",
       "      <td>0.0</td>\n",
       "      <td>0.0</td>\n",
       "      <td>0.0</td>\n",
       "      <td>1.0</td>\n",
       "      <td>0.0</td>\n",
       "      <td>0.0</td>\n",
       "      <td>1.0</td>\n",
       "    </tr>\n",
       "    <tr>\n",
       "      <th>2</th>\n",
       "      <td>0.413043</td>\n",
       "      <td>0.738993</td>\n",
       "      <td>0.329268</td>\n",
       "      <td>1.0</td>\n",
       "      <td>0.0</td>\n",
       "      <td>0.0</td>\n",
       "      <td>0.0</td>\n",
       "      <td>0.0</td>\n",
       "      <td>0.0</td>\n",
       "      <td>1.0</td>\n",
       "      <td>0.0</td>\n",
       "    </tr>\n",
       "    <tr>\n",
       "      <th>3</th>\n",
       "      <td>0.556856</td>\n",
       "      <td>0.634985</td>\n",
       "      <td>0.268293</td>\n",
       "      <td>0.0</td>\n",
       "      <td>0.0</td>\n",
       "      <td>0.0</td>\n",
       "      <td>0.0</td>\n",
       "      <td>1.0</td>\n",
       "      <td>0.0</td>\n",
       "      <td>1.0</td>\n",
       "      <td>0.0</td>\n",
       "    </tr>\n",
       "    <tr>\n",
       "      <th>4</th>\n",
       "      <td>1.000000</td>\n",
       "      <td>0.591116</td>\n",
       "      <td>0.109756</td>\n",
       "      <td>0.0</td>\n",
       "      <td>1.0</td>\n",
       "      <td>0.0</td>\n",
       "      <td>0.0</td>\n",
       "      <td>0.0</td>\n",
       "      <td>0.0</td>\n",
       "      <td>1.0</td>\n",
       "      <td>0.0</td>\n",
       "    </tr>\n",
       "    <tr>\n",
       "      <th>...</th>\n",
       "      <td>...</td>\n",
       "      <td>...</td>\n",
       "      <td>...</td>\n",
       "      <td>...</td>\n",
       "      <td>...</td>\n",
       "      <td>...</td>\n",
       "      <td>...</td>\n",
       "      <td>...</td>\n",
       "      <td>...</td>\n",
       "      <td>...</td>\n",
       "      <td>...</td>\n",
       "    </tr>\n",
       "    <tr>\n",
       "      <th>58</th>\n",
       "      <td>0.514214</td>\n",
       "      <td>0.754853</td>\n",
       "      <td>0.451220</td>\n",
       "      <td>0.0</td>\n",
       "      <td>0.0</td>\n",
       "      <td>0.0</td>\n",
       "      <td>0.0</td>\n",
       "      <td>1.0</td>\n",
       "      <td>0.0</td>\n",
       "      <td>1.0</td>\n",
       "      <td>0.0</td>\n",
       "    </tr>\n",
       "    <tr>\n",
       "      <th>59</th>\n",
       "      <td>0.023411</td>\n",
       "      <td>0.615459</td>\n",
       "      <td>0.560976</td>\n",
       "      <td>0.0</td>\n",
       "      <td>0.0</td>\n",
       "      <td>0.0</td>\n",
       "      <td>0.0</td>\n",
       "      <td>1.0</td>\n",
       "      <td>0.0</td>\n",
       "      <td>0.0</td>\n",
       "      <td>1.0</td>\n",
       "    </tr>\n",
       "    <tr>\n",
       "      <th>60</th>\n",
       "      <td>0.594482</td>\n",
       "      <td>0.641744</td>\n",
       "      <td>0.182927</td>\n",
       "      <td>1.0</td>\n",
       "      <td>0.0</td>\n",
       "      <td>0.0</td>\n",
       "      <td>0.0</td>\n",
       "      <td>0.0</td>\n",
       "      <td>0.0</td>\n",
       "      <td>1.0</td>\n",
       "      <td>0.0</td>\n",
       "    </tr>\n",
       "    <tr>\n",
       "      <th>61</th>\n",
       "      <td>0.287625</td>\n",
       "      <td>0.508254</td>\n",
       "      <td>0.865854</td>\n",
       "      <td>0.0</td>\n",
       "      <td>0.0</td>\n",
       "      <td>0.0</td>\n",
       "      <td>0.0</td>\n",
       "      <td>0.0</td>\n",
       "      <td>1.0</td>\n",
       "      <td>1.0</td>\n",
       "      <td>0.0</td>\n",
       "    </tr>\n",
       "    <tr>\n",
       "      <th>62</th>\n",
       "      <td>0.504181</td>\n",
       "      <td>0.552135</td>\n",
       "      <td>0.500000</td>\n",
       "      <td>0.0</td>\n",
       "      <td>0.0</td>\n",
       "      <td>0.0</td>\n",
       "      <td>0.0</td>\n",
       "      <td>1.0</td>\n",
       "      <td>0.0</td>\n",
       "      <td>1.0</td>\n",
       "      <td>0.0</td>\n",
       "    </tr>\n",
       "  </tbody>\n",
       "</table>\n",
       "<p>63 rows × 11 columns</p>\n",
       "</div>"
      ],
      "text/plain": [
       "     km4week   sp4week    Wall21    0    1    2    3    4    5    6    7\n",
       "0   0.084448  0.431518  0.902439  0.0  0.0  0.0  0.0  1.0  0.0  1.0  0.0\n",
       "1   0.289298  0.635029  0.475610  0.0  0.0  0.0  0.0  1.0  0.0  0.0  1.0\n",
       "2   0.413043  0.738993  0.329268  1.0  0.0  0.0  0.0  0.0  0.0  1.0  0.0\n",
       "3   0.556856  0.634985  0.268293  0.0  0.0  0.0  0.0  1.0  0.0  1.0  0.0\n",
       "4   1.000000  0.591116  0.109756  0.0  1.0  0.0  0.0  0.0  0.0  1.0  0.0\n",
       "..       ...       ...       ...  ...  ...  ...  ...  ...  ...  ...  ...\n",
       "58  0.514214  0.754853  0.451220  0.0  0.0  0.0  0.0  1.0  0.0  1.0  0.0\n",
       "59  0.023411  0.615459  0.560976  0.0  0.0  0.0  0.0  1.0  0.0  0.0  1.0\n",
       "60  0.594482  0.641744  0.182927  1.0  0.0  0.0  0.0  0.0  0.0  1.0  0.0\n",
       "61  0.287625  0.508254  0.865854  0.0  0.0  0.0  0.0  0.0  1.0  1.0  0.0\n",
       "62  0.504181  0.552135  0.500000  0.0  0.0  0.0  0.0  1.0  0.0  1.0  0.0\n",
       "\n",
       "[63 rows x 11 columns]"
      ]
     },
     "execution_count": 44,
     "metadata": {},
     "output_type": "execute_result"
    }
   ],
   "source": [
    "# Create DataFrame of `X_train_final` and `X_test_final_df`\n",
    "\n",
    "X_train_final_df = pd.DataFrame(X_train_final, columns=[feature_num+list(range(8))])\n",
    "X_test_final_df = pd.DataFrame(X_test_final, columns=[feature_num+list(range(8))])\n",
    "X_train_final_df"
   ]
  },
  {
   "cell_type": "markdown",
   "metadata": {},
   "source": [
    "## 6. Model Definition"
   ]
  },
  {
   "cell_type": "markdown",
   "metadata": {},
   "source": [
    "The algorithm that will be used is `Linear regression`, `Decision Tree`, `Random Forest`, `SVM`, `Ridge`, `Lasso`, `XGBoost` and `LightGBM`"
   ]
  },
  {
   "cell_type": "code",
   "execution_count": 45,
   "metadata": {},
   "outputs": [],
   "source": [
    "# Initiate the regression models\n",
    "\n",
    "model_linreg = LinearRegression()\n",
    "\n",
    "model_DT = DecisionTreeRegressor()\n",
    "\n",
    "model_RF = RandomForestRegressor()\n",
    "\n",
    "model_SVM = SVR()\n",
    "\n",
    "model_xgb = XGBRegressor()\n",
    "\n",
    "model_lgbm = LGBMRegressor()"
   ]
  },
  {
   "cell_type": "markdown",
   "metadata": {},
   "source": [
    "## 7. Model Training\n"
   ]
  },
  {
   "cell_type": "markdown",
   "metadata": {},
   "source": [
    "We will fit the model into the train data that has been preprocessed"
   ]
  },
  {
   "cell_type": "code",
   "execution_count": 46,
   "metadata": {},
   "outputs": [],
   "source": [
    "# Train the Model\n",
    "\n",
    "model_linreg.fit(X_train_final, y_train)\n",
    "\n",
    "model_DT.fit(X_train_final, y_train)\n",
    "\n",
    "model_RF.fit(X_train_final, y_train)\n",
    "\n",
    "model_SVM.fit(X_train_final, y_train)\n",
    "\n",
    "model_xgb.fit(X_train_final, y_train)\n",
    "\n",
    "model_lgbm.fit(X_train_final, y_train);"
   ]
  },
  {
   "cell_type": "markdown",
   "metadata": {},
   "source": [
    "## 8. Model Evaluation"
   ]
  },
  {
   "cell_type": "code",
   "execution_count": 47,
   "metadata": {},
   "outputs": [
    {
     "name": "stdout",
     "output_type": "stream",
     "text": [
      "LinearRegression\n",
      "MAE train =  0.07478144973359536\n",
      "MAE test =  0.0913788221494362\n",
      "MSE train =  0.007937747143431016\n",
      "MSE test =  0.01222128860398962\n",
      "RMSE train =  0.08732741788322203\n",
      "RMSE test =  0.11054993715054577\n",
      "r2score train =  0.9342017495178568\n",
      "r2score test =  0.8908612010128458\n",
      "\n",
      "DecisionTreeRegressor\n",
      "MAE train =  0.09716666666666662\n",
      "MAE test =  0.09722222222222225\n",
      "MSE train =  0.015168076923076913\n",
      "MSE test =  0.02057222222222222\n",
      "RMSE train =  0.12119986324851187\n",
      "RMSE test =  0.14343019982633443\n",
      "r2score train =  0.8806554546127943\n",
      "r2score test =  0.8162855244988465\n",
      "\n",
      "RandomForestRegressor\n",
      "MAE train =  0.08086000000000013\n",
      "MAE test =  0.13118333333333265\n",
      "MSE train =  0.009709682705128175\n",
      "MSE test =  0.02675978611111095\n",
      "RMSE train =  0.09673253562893677\n",
      "RMSE test =  0.16358418661689444\n",
      "r2score train =  0.9227241583296213\n",
      "r2score test =  0.761029216152675\n",
      "\n",
      "SVR\n",
      "MAE train =  0.11783445379372921\n",
      "MAE test =  0.1412589866912988\n",
      "MSE train =  0.02491558154115846\n",
      "MSE test =  0.029181159561729335\n",
      "RMSE train =  0.15301531954794592\n",
      "RMSE test =  0.17082493834838441\n",
      "r2score train =  0.8071174891872142\n",
      "r2score test =  0.7394058179282356\n",
      "\n",
      "XGBRegressor\n",
      "MAE train =  0.08413805120419231\n",
      "MAE test =  0.11400057315826419\n",
      "MSE train =  0.010304201446724356\n",
      "MSE test =  0.023656749627046926\n",
      "RMSE train =  0.10066545989418689\n",
      "RMSE test =  0.15380750835718954\n",
      "r2score train =  0.9152259398720382\n",
      "r2score test =  0.7887400154028879\n",
      "\n",
      "LGBMRegressor\n",
      "MAE train =  0.12072121140954702\n",
      "MAE test =  0.15797471093071222\n",
      "MSE train =  0.022331053702520507\n",
      "MSE test =  0.03834104707628735\n",
      "RMSE train =  0.14589154264967313\n",
      "RMSE test =  0.19580870020580635\n",
      "r2score train =  0.8269423058034174\n",
      "r2score test =  0.6576060049469808\n",
      "\n"
     ]
    }
   ],
   "source": [
    "for model in [model_linreg, model_DT, model_RF, model_SVM, model_xgb, model_lgbm]:\n",
    "    # using cross_val_score to know the evalution of each model on train data\n",
    "    train_mae = cross_val_score(model, X_train_final, y_train, cv=5, scoring=\"neg_mean_absolute_error\")\n",
    "    train_mse = cross_val_score(model, X_train_final, y_train, cv=5, scoring=\"neg_mean_squared_error\")\n",
    "    train_rmse = cross_val_score(model, X_train_final, y_train, cv=5, scoring=\"neg_root_mean_squared_error\")\n",
    "    train_r2 = cross_val_score(model, X_train_final, y_train, cv=5, scoring=\"r2\")\n",
    "    # predict the test data to see the performance of each model\n",
    "    y_pred_test = model.predict(X_test_final)\n",
    "    \n",
    "    name = (f'{model}').split('(')[0]\n",
    "\n",
    "    print(name)\n",
    "    print('MAE train = ', np.abs(np.mean(train_mae)))\n",
    "    print('MAE test = ', mean_absolute_error(y_test, y_pred_test))\n",
    "\n",
    "    print('MSE train = ', np.abs(np.mean(train_mse)))\n",
    "    print('MSE test = ', mean_squared_error(y_test, y_pred_test))\n",
    "\n",
    "    print('RMSE train = ', np.abs(np.mean(train_rmse)))\n",
    "    print('RMSE test = ', np.sqrt(mean_squared_error(y_test, y_pred_test)))\n",
    "\n",
    "    print('r2score train = ', np.abs(np.mean(train_r2)))\n",
    "    print('r2score test = ', r2_score(y_test, y_pred_test))\n",
    "    print()"
   ]
  },
  {
   "cell_type": "markdown",
   "metadata": {},
   "source": [
    "Based on the evaluation matrices above, we can argue that the best model for this case is LinearRegression model based on all of the evaluation matrices that we used. It has the lowest MAE, MSE and RMSE both for train and test among all of the model evaluation, and on top of that, LinearRegression has the highest r2 score for train and test. Even thought LinearRegression gave the best result but if we compare the result of train and test data, there is an indication that the model is `overfit`."
   ]
  },
  {
   "cell_type": "markdown",
   "metadata": {},
   "source": [
    "### • Model Improvement\n",
    "\n",
    "We found out that the best model for our case in LinearRegression, hence we will do a model improvement on it by applying regularization (Ridge and Lasso)"
   ]
  },
  {
   "cell_type": "markdown",
   "metadata": {},
   "source": [
    "#### - Ridge"
   ]
  },
  {
   "cell_type": "code",
   "execution_count": 48,
   "metadata": {},
   "outputs": [],
   "source": [
    "param_grid =  {'alpha': [0.0001, 0.001, 0.01, 0.05, 0.1, 0.2, 0.3, 0.4, 0.5, 0.6, 0.7, 0.8, 0.9, 1.0, 2.0, 3.0, 4.0, 5.0, 6.0, 7.0, 8.0, 9.0, \n",
    "                    10.0, 20, 50, 100, 500, 1000 ]}\n",
    "\n",
    "ridge_improved = GridSearchCV(Ridge(), param_grid, cv=3, scoring='neg_mean_absolute_error')\n",
    "\n",
    "ridge_improved.fit(X_train_final, y_train);"
   ]
  },
  {
   "cell_type": "code",
   "execution_count": 49,
   "metadata": {},
   "outputs": [
    {
     "name": "stdout",
     "output_type": "stream",
     "text": [
      "Ridge\n",
      "MAE train =  0.06486106236709233\n",
      "MAE test =  0.096365155882686\n",
      "MSE train =  0.006083162070862406\n",
      "MSE test =  0.01328437428039667\n",
      "RMSE train =  0.07799462847441743\n",
      "RMSE test =  0.11525785995061973\n",
      "r2score train =  0.9580553064829711\n",
      "r2score test =  0.8813676117766309\n",
      "\n"
     ]
    }
   ],
   "source": [
    "y_pred_train = ridge_improved.predict(X_train_final)\n",
    "y_pred_test = ridge_improved.predict(X_test_final)\n",
    "\n",
    "\n",
    "print('Ridge')\n",
    "print('MAE train = ', mean_absolute_error(y_train, y_pred_train))\n",
    "print('MAE test = ', mean_absolute_error(y_test, y_pred_test))\n",
    "\n",
    "print('MSE train = ', mean_squared_error(y_train, y_pred_train))\n",
    "print('MSE test = ', mean_squared_error(y_test, y_pred_test))\n",
    "\n",
    "print('RMSE train = ', np.sqrt(mean_squared_error(y_train, y_pred_train)))\n",
    "print('RMSE test = ', np.sqrt(mean_squared_error(y_test, y_pred_test)))\n",
    "\n",
    "print('r2score train = ', r2_score(y_train, y_pred_train))\n",
    "print('r2score test = ', r2_score(y_test, y_pred_test))\n",
    "print()"
   ]
  },
  {
   "cell_type": "markdown",
   "metadata": {},
   "source": [
    "We got a better result for only the train which still indicates an `overfit`"
   ]
  },
  {
   "cell_type": "markdown",
   "metadata": {},
   "source": [
    "#### - Lasso"
   ]
  },
  {
   "cell_type": "code",
   "execution_count": 50,
   "metadata": {},
   "outputs": [],
   "source": [
    "param_grid =  {'alpha': [0.0001, 0.001, 0.01, 0.05, 0.1, 0.2, 0.3, 0.4, 0.5, 0.6, 0.7, 0.8, 0.9, 1.0, 2.0, 3.0, 4.0, 5.0, 6.0, 7.0, 8.0, 9.0, \n",
    "                    10.0, 20, 50, 100, 500, 1000 ]}\n",
    "\n",
    "Lasso_improved = GridSearchCV(Lasso(), param_grid, cv=3, scoring='r2')\n",
    "\n",
    "Lasso_improved.fit(X_train_final, y_train);"
   ]
  },
  {
   "cell_type": "code",
   "execution_count": 51,
   "metadata": {},
   "outputs": [
    {
     "name": "stdout",
     "output_type": "stream",
     "text": [
      "Lasso\n",
      "MAE train =  0.06497930814287477\n",
      "MAE test =  0.09276051118417307\n",
      "MSE train =  0.006130442857265934\n",
      "MSE test =  0.012298262314942424\n",
      "RMSE train =  0.07829714463034992\n",
      "RMSE test =  0.11089753069812881\n",
      "r2score train =  0.957729295426248\n",
      "r2score test =  0.8901738088204847\n",
      "\n"
     ]
    }
   ],
   "source": [
    "y_pred_train = Lasso_improved.predict(X_train_final)\n",
    "y_pred_test = Lasso_improved.predict(X_test_final)\n",
    "\n",
    "\n",
    "print('Lasso')\n",
    "print('MAE train = ', mean_absolute_error(y_train, y_pred_train))\n",
    "print('MAE test = ', mean_absolute_error(y_test, y_pred_test))\n",
    "\n",
    "print('MSE train = ', mean_squared_error(y_train, y_pred_train))\n",
    "print('MSE test = ', mean_squared_error(y_test, y_pred_test))\n",
    "\n",
    "print('RMSE train = ', np.sqrt(mean_squared_error(y_train, y_pred_train)))\n",
    "print('RMSE test = ', np.sqrt(mean_squared_error(y_test, y_pred_test)))\n",
    "\n",
    "print('r2score train = ', r2_score(y_train, y_pred_train))\n",
    "print('r2score test = ', r2_score(y_test, y_pred_test))\n",
    "print()"
   ]
  },
  {
   "cell_type": "markdown",
   "metadata": {},
   "source": [
    "A better result compared to ridge, but still a a little bit `overfit` especially if you look at the r2 score. However, we will choose lasso to be the model we used for the deployment"
   ]
  },
  {
   "cell_type": "code",
   "execution_count": 52,
   "metadata": {},
   "outputs": [
    {
     "data": {
      "text/plain": [
       "{'alpha': 0.001}"
      ]
     },
     "execution_count": 52,
     "metadata": {},
     "output_type": "execute_result"
    }
   ],
   "source": [
    "# Show the best hyperparameter\n",
    "\n",
    "Lasso_improved.best_params_"
   ]
  },
  {
   "cell_type": "markdown",
   "metadata": {},
   "source": [
    "## 9. Model Saving"
   ]
  },
  {
   "cell_type": "code",
   "execution_count": 53,
   "metadata": {},
   "outputs": [
    {
     "data": {
      "text/plain": [
       "['km4week', 'sp4week', 'Wall21']"
      ]
     },
     "execution_count": 53,
     "metadata": {},
     "output_type": "execute_result"
    }
   ],
   "source": [
    "feature_num"
   ]
  },
  {
   "cell_type": "code",
   "execution_count": 54,
   "metadata": {},
   "outputs": [
    {
     "data": {
      "text/plain": [
       "['Category', 'CrossTraining']"
      ]
     },
     "execution_count": 54,
     "metadata": {},
     "output_type": "execute_result"
    }
   ],
   "source": [
    "feature_cat"
   ]
  },
  {
   "cell_type": "code",
   "execution_count": 58,
   "metadata": {},
   "outputs": [],
   "source": [
    "scaler = MinMaxScaler()\n",
    "\n",
    "encoder = OneHotEncoder()\n",
    "\n",
    "preprocess = ColumnTransformer(\n",
    "    transformers = [\n",
    "        ('num', scaler, feature_num),\n",
    "        ('cat_ohe', encoder, feature_cat)\n",
    "    ]\n",
    ")\n",
    "\n",
    "pipe = Pipeline(steps = [('preprocess', preprocess),\n",
    "                         ('model', Lasso(alpha= 0.001))])"
   ]
  },
  {
   "cell_type": "code",
   "execution_count": 61,
   "metadata": {},
   "outputs": [],
   "source": [
    "pipe.fit(X_train, y_train);"
   ]
  },
  {
   "cell_type": "code",
   "execution_count": 572,
   "metadata": {},
   "outputs": [],
   "source": [
    "pickle.dump(pipe, open('pipe.pkl', 'wb'))"
   ]
  },
  {
   "cell_type": "markdown",
   "metadata": {},
   "source": [
    "## 10. Model Inference"
   ]
  },
  {
   "cell_type": "code",
   "execution_count": 59,
   "metadata": {},
   "outputs": [
    {
     "data": {
      "text/html": [
       "<div>\n",
       "<style scoped>\n",
       "    .dataframe tbody tr th:only-of-type {\n",
       "        vertical-align: middle;\n",
       "    }\n",
       "\n",
       "    .dataframe tbody tr th {\n",
       "        vertical-align: top;\n",
       "    }\n",
       "\n",
       "    .dataframe thead th {\n",
       "        text-align: right;\n",
       "    }\n",
       "</style>\n",
       "<table border=\"1\" class=\"dataframe\">\n",
       "  <thead>\n",
       "    <tr style=\"text-align: right;\">\n",
       "      <th></th>\n",
       "      <th>km4week</th>\n",
       "      <th>sp4week</th>\n",
       "      <th>Wall21</th>\n",
       "      <th>Category</th>\n",
       "      <th>CrossTraining</th>\n",
       "    </tr>\n",
       "  </thead>\n",
       "  <tbody>\n",
       "    <tr>\n",
       "      <th>0</th>\n",
       "      <td>100.3</td>\n",
       "      <td>11.043189</td>\n",
       "      <td>2.10</td>\n",
       "      <td>MAM</td>\n",
       "      <td>yes</td>\n",
       "    </tr>\n",
       "    <tr>\n",
       "      <th>1</th>\n",
       "      <td>70.2</td>\n",
       "      <td>12.000000</td>\n",
       "      <td>1.92</td>\n",
       "      <td>M40</td>\n",
       "      <td>no</td>\n",
       "    </tr>\n",
       "    <tr>\n",
       "      <th>2</th>\n",
       "      <td>60.3</td>\n",
       "      <td>10.000000</td>\n",
       "      <td>2.30</td>\n",
       "      <td>WAM</td>\n",
       "      <td>yes</td>\n",
       "    </tr>\n",
       "  </tbody>\n",
       "</table>\n",
       "</div>"
      ],
      "text/plain": [
       "   km4week    sp4week  Wall21 Category CrossTraining\n",
       "0    100.3  11.043189    2.10      MAM           yes\n",
       "1     70.2  12.000000    1.92      M40            no\n",
       "2     60.3  10.000000    2.30      WAM           yes"
      ]
     },
     "execution_count": 59,
     "metadata": {},
     "output_type": "execute_result"
    }
   ],
   "source": [
    "df_inf"
   ]
  },
  {
   "cell_type": "code",
   "execution_count": 62,
   "metadata": {},
   "outputs": [
    {
     "data": {
      "text/plain": [
       "array([3.98830555, 3.7441506 , 4.34798351])"
      ]
     },
     "execution_count": 62,
     "metadata": {},
     "output_type": "execute_result"
    }
   ],
   "source": [
    "# predicting the target using pipeline\n",
    "\n",
    "y_pred_inf = pipe.predict(df_inf)\n",
    "y_pred_inf"
   ]
  },
  {
   "cell_type": "code",
   "execution_count": 63,
   "metadata": {},
   "outputs": [
    {
     "data": {
      "text/html": [
       "<div>\n",
       "<style scoped>\n",
       "    .dataframe tbody tr th:only-of-type {\n",
       "        vertical-align: middle;\n",
       "    }\n",
       "\n",
       "    .dataframe tbody tr th {\n",
       "        vertical-align: top;\n",
       "    }\n",
       "\n",
       "    .dataframe thead th {\n",
       "        text-align: right;\n",
       "    }\n",
       "</style>\n",
       "<table border=\"1\" class=\"dataframe\">\n",
       "  <thead>\n",
       "    <tr style=\"text-align: right;\">\n",
       "      <th></th>\n",
       "      <th>MarathonTime - Prediction</th>\n",
       "    </tr>\n",
       "  </thead>\n",
       "  <tbody>\n",
       "    <tr>\n",
       "      <th>0</th>\n",
       "      <td>3.988306</td>\n",
       "    </tr>\n",
       "    <tr>\n",
       "      <th>1</th>\n",
       "      <td>3.744151</td>\n",
       "    </tr>\n",
       "    <tr>\n",
       "      <th>2</th>\n",
       "      <td>4.347984</td>\n",
       "    </tr>\n",
       "  </tbody>\n",
       "</table>\n",
       "</div>"
      ],
      "text/plain": [
       "   MarathonTime - Prediction\n",
       "0                   3.988306\n",
       "1                   3.744151\n",
       "2                   4.347984"
      ]
     },
     "execution_count": 63,
     "metadata": {},
     "output_type": "execute_result"
    }
   ],
   "source": [
    "y_pred_inf_df = pd.DataFrame(y_pred_inf, columns=['MarathonTime - Prediction'])\n",
    "y_pred_inf_df"
   ]
  },
  {
   "cell_type": "code",
   "execution_count": 64,
   "metadata": {},
   "outputs": [
    {
     "data": {
      "text/html": [
       "<div>\n",
       "<style scoped>\n",
       "    .dataframe tbody tr th:only-of-type {\n",
       "        vertical-align: middle;\n",
       "    }\n",
       "\n",
       "    .dataframe tbody tr th {\n",
       "        vertical-align: top;\n",
       "    }\n",
       "\n",
       "    .dataframe thead th {\n",
       "        text-align: right;\n",
       "    }\n",
       "</style>\n",
       "<table border=\"1\" class=\"dataframe\">\n",
       "  <thead>\n",
       "    <tr style=\"text-align: right;\">\n",
       "      <th></th>\n",
       "      <th>km4week</th>\n",
       "      <th>sp4week</th>\n",
       "      <th>Wall21</th>\n",
       "      <th>Category</th>\n",
       "      <th>CrossTraining</th>\n",
       "      <th>MarathonTime - Prediction</th>\n",
       "    </tr>\n",
       "  </thead>\n",
       "  <tbody>\n",
       "    <tr>\n",
       "      <th>0</th>\n",
       "      <td>100.3</td>\n",
       "      <td>11.043189</td>\n",
       "      <td>2.10</td>\n",
       "      <td>MAM</td>\n",
       "      <td>yes</td>\n",
       "      <td>3.988306</td>\n",
       "    </tr>\n",
       "    <tr>\n",
       "      <th>1</th>\n",
       "      <td>70.2</td>\n",
       "      <td>12.000000</td>\n",
       "      <td>1.92</td>\n",
       "      <td>M40</td>\n",
       "      <td>no</td>\n",
       "      <td>3.744151</td>\n",
       "    </tr>\n",
       "    <tr>\n",
       "      <th>2</th>\n",
       "      <td>60.3</td>\n",
       "      <td>10.000000</td>\n",
       "      <td>2.30</td>\n",
       "      <td>WAM</td>\n",
       "      <td>yes</td>\n",
       "      <td>4.347984</td>\n",
       "    </tr>\n",
       "  </tbody>\n",
       "</table>\n",
       "</div>"
      ],
      "text/plain": [
       "   km4week    sp4week  Wall21 Category CrossTraining  \\\n",
       "0    100.3  11.043189    2.10      MAM           yes   \n",
       "1     70.2  12.000000    1.92      M40            no   \n",
       "2     60.3  10.000000    2.30      WAM           yes   \n",
       "\n",
       "   MarathonTime - Prediction  \n",
       "0                   3.988306  \n",
       "1                   3.744151  \n",
       "2                   4.347984  "
      ]
     },
     "execution_count": 64,
     "metadata": {},
     "output_type": "execute_result"
    }
   ],
   "source": [
    "# Concate between Inference-Set and price's Prediction \n",
    "\n",
    "pd.concat([df_inf, y_pred_inf_df], axis=1)"
   ]
  },
  {
   "cell_type": "markdown",
   "metadata": {},
   "source": [
    "## 11. Conclusion "
   ]
  },
  {
   "cell_type": "markdown",
   "metadata": {},
   "source": [
    "Let's remind the goal of this project. Our goal in this project is creating a regression model to predict marathon time with the provided dataset which contains information about athlete's training history and their marathon time.\n",
    "\n",
    "Thereafter, What is the information that we use in our model? basically we used all of the information provided, such as total number of kilometers run in the last 4 weeks before the marathon, The average speed of the athlete in the last 4 training weeks, If the runner is also a cyclist, or a triathlete, athelete's personal best half marathon time, age, gender and of courses their marathon time as the thing that we will try to predict.\n",
    "\n",
    "Next is about the model that we have created. The model performs quite well based on the evaluation matrices that we have calculated. To put it into perspective, we came up with a model that can predict the marathon time with roughly a **92**% accuracy.\n",
    "\n",
    "Ultimately, since the model that we came up with was performing well but still not the best, we suggest for whoever wants to do similar work to find a lot more samples since the data that we were using is limited, and also about the information, for example you can add VO2MAX, cadence, average sleep time, average elevation and etc."
   ]
  }
 ],
 "metadata": {
  "kernelspec": {
   "display_name": "Python 3.8.13 ('Aco')",
   "language": "python",
   "name": "python3"
  },
  "language_info": {
   "codemirror_mode": {
    "name": "ipython",
    "version": 3
   },
   "file_extension": ".py",
   "mimetype": "text/x-python",
   "name": "python",
   "nbconvert_exporter": "python",
   "pygments_lexer": "ipython3",
   "version": "3.8.13"
  },
  "vscode": {
   "interpreter": {
    "hash": "39611a5577a8cc4efa8132376895bab1890e67f35d25119f5e8e9f8b01b8af2e"
   }
  }
 },
 "nbformat": 4,
 "nbformat_minor": 4
}
